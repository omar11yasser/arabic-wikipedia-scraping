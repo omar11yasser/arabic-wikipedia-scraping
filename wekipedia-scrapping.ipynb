{
 "cells": [
  {
   "cell_type": "markdown",
   "metadata": {},
   "source": [
    "# Wikepedia arabic articles scrapping\n",
    "\n",
    "In this project I intend to create a scraping tool for wikepedia where the scrapper get the paragraphs in a certain article as well as collecting all the hyperlinks for other articles inside the body and store them in a Dataframe. In a future version I will add the ability to scrap the links I collect to create a dataset of many articles relevant to the first article I started with.\n",
    "\n",
    "Please use this code responsibly and review wikepedia's rules for scrapping to check the legality and the effect of this method before usage."
   ]
  },
  {
   "cell_type": "markdown",
   "metadata": {},
   "source": [
    "## Imports"
   ]
  },
  {
   "cell_type": "code",
   "execution_count": 1,
   "metadata": {},
   "outputs": [],
   "source": [
    "from bs4 import BeautifulSoup\n",
    "import requests\n",
    "import pandas as pd"
   ]
  },
  {
   "cell_type": "markdown",
   "metadata": {},
   "source": [
    "## Access the article using URL"
   ]
  },
  {
   "cell_type": "code",
   "execution_count": 2,
   "metadata": {},
   "outputs": [],
   "source": [
    "url = \"https://ar.wikipedia.org/wiki/%D8%A7%D9%84%D9%86%D8%A7%D8%AF%D9%8A_%D8%A7%D9%84%D8%A3%D9%87%D9%84%D9%8A_(%D9%85%D8%B5%D8%B1)\"\n",
    "soup = BeautifulSoup(requests.get(url).text, 'html.parser')"
   ]
  },
  {
   "cell_type": "code",
   "execution_count": 3,
   "metadata": {},
   "outputs": [
    {
     "name": "stdout",
     "output_type": "stream",
     "text": [
      "<!DOCTYPE html>\n",
      "<html class=\"client-nojs vector-feature-language-in-header-enabled vector-feature-language-in-main-page-header-disabled vector-feature-sticky-header-disabled vector-feature-page-tools-pinned-disabled vector-feature-toc-pinned-clientpref-1 vector-feature-main-menu-pinned-disabled vector-feature-limited-width-clientpref-1 vector-feature-limited-width-content-enabled vector-feature-zebra-design-enabled vector-feature-custom-font-size-clientpref-0 vector-feature-client-preferences-disabled vector-feature-client-prefs-pinned-disabled vector-toc-available\" dir=\"rtl\" lang=\"ar\">\n",
      " <head>\n",
      "  <meta charset=\"utf-8\"/>\n",
      "  <title>\n",
      "   النادي الأهلي (مصر) - ويكيبيديا\n",
      "  </title>\n",
      "  <script>\n",
      "   (function(){var className=\"client-js vector-feature-language-in-header-enabled vector-feature-language-in-main-page-header-disabled vector-feature-sticky-header-disabled vector-feature-page-tools-pinned-disabled vector-feature-toc-pinned-clientpref-1 vector-feature-main-menu-pinned-disabled vector-feature-limited-width-clientpref-1 vector-feature-limited-width-content-enabled vector-feature-zebra-design-enabled vector-feature-custom-font-size-clientpref-0 vector-feature-client-preferences-disabled vector-feature-client-prefs-pinned-disabled vector-toc-available\";var cookie=document.cookie.match(/(?:^|; )arwikimwclientpreferences=([^;]+)/);if(cookie){cookie[1].split('%2C').forEach(function(pref){className=className.replace(new RegExp('(^| )'+pref.replace(/-clientpref-\\w+$|[^\\w-]+/g,'')+'-clientpref-\\\\w+( |$)'),'$1'+pref+'$2');});}document.documentElement.className=className;}());RLCONF={\"wgBreakFrames\":false,\"wgSeparatorTransformTable\":[\".\\t,\",\"٫\\t٬\"],\"wgDigitTransformTable\":[\n",
      "\"0\\t1\\t2\\t3\\t4\\t5\\t6\\t7\\t8\\t9\",\"٠\\t١\\t٢\\t٣\\t٤\\t٥\\t٦\\t٧\\t٨\\t٩\"],\"wgDefaultDateFormat\":\"dmy\",\"wgMonthNames\":[\"\",\"يناير\",\"فبراير\",\"مارس\",\"أبريل\",\"مايو\",\"يونيو\",\"يوليو\",\"أغسطس\",\"سبتمبر\",\"أكتوبر\",\"نوفمبر\",\"ديسمبر\"],\"wgRequestId\":\"9de4471a-0d25-4398-bf37-6ed901ff730b\",\"wgCanonicalNamespace\":\"\",\"wgCanonicalSpecialPageName\":false,\"wgNamespaceNumber\":0,\"wgPageName\":\"النادي_الأهلي_(مصر)\",\"wgTitle\":\"النادي الأهلي (مصر)\",\"wgCurRevisionId\":65642973,\"wgRevisionId\":65642973,\"wgArticleId\":11838,\"wgIsArticle\":true,\"wgIsRedirect\":false,\"wgAction\":\"view\",\"wgUserName\":null,\"wgUserGroups\":[\"*\"],\"wgCategories\":[\"قالب أرشيف الإنترنت بوصلات واي باك\",\"أخطاء الاستشهاد: التاريخ\",\"صيانة الاستشهاد: BOT: original URL status unknown\",\"جميع المقالات ذات الوصلات الخارجية المكسورة\",\n",
      "\"مقالات ذات وصلات خارجية مكسورة منذ أكتوبر 2020\",\"صيانة الاستشهاد: لغة غير مدعومة\",\"الاستشهاد بمصادر باللغة الإنجليزية (en)\",\"أخطاء الاستشهاد: روابط خارجية\",\"صفحات محمية جزئياً بشكل دائم\",\"مقالات تستعمل قوالب معلومات\",\"صفحات بها مراجع ويكي بيانات\",\"صفحات تستخدم خاصية P166\",\"صفحات بها بيانات ويكي بيانات\",\"صفحات تستخدم خاصية P2003\",\"صفحات تستخدم خاصية P2013\",\"صفحات تستخدم خاصية P2002\",\"صفحات تستخدم خاصية P2397\",\"صفحات تستخدم خاصية P3417\",\"بوابة القاهرة/مقالات متعلقة\",\"بوابة كرة القدم/مقالات متعلقة\",\"بوابة كرة القدم المصرية/مقالات متعلقة\",\n",
      "\"بوابة كرة القدم في إفريقيا/مقالات متعلقة\",\"بوابة مصر/مقالات متعلقة\",\"جميع المقالات التي تستخدم شريط بوابات\",\"مقالات مختارة\",\"محتوى ويكيبيديا المتميز منذ 2021\",\"محتوى ويكيبيديا المتميز منذ مارس 2021\",\"مقالات مختارة منذ 2021\",\"مقالات مختارة منذ مارس 2021\",\"النادي الأهلي (مصر)\",\"أندية الدوري المصري الممتاز لكرة القدم\",\"أندية رياضية في مصر\",\"أندية كرة قدم أسست في 1907\",\"أندية كرة قدم غير هابطة\",\"أندية كرة قدم في القاهرة\",\"أندية كرة قدم في مصر\",\"أندية متعددة الرياضات\",\"تأسيسات سنة 1907 في مصر\",\"فرق رياضية في مصر\",\"مباريات النادي الأهلي (مصر)\",\"نواد وجمعيات في مصر\"],\"wgPageViewLanguage\":\"ar\",\n",
      "\"wgPageContentLanguage\":\"ar\",\"wgPageContentModel\":\"wikitext\",\"wgRelevantPageName\":\"النادي_الأهلي_(مصر)\",\"wgRelevantArticleId\":11838,\"wgIsProbablyEditable\":false,\"wgRelevantPageIsProbablyEditable\":false,\"wgRestrictionEdit\":[\"autoconfirmed\"],\"wgRestrictionMove\":[\"autoconfirmed\"],\"wgNoticeProject\":\"wikipedia\",\"wgFlaggedRevsParams\":{\"tags\":{\"accuracy\":{\"levels\":2}}},\"wgStableRevisionId\":65642973,\"wgMediaViewerOnClick\":true,\"wgMediaViewerEnabledByDefault\":true,\"wgPopupsFlags\":6,\"wgVisualEditor\":{\"pageLanguageCode\":\"ar\",\"pageLanguageDir\":\"rtl\",\"pageVariantFallbacks\":\"ar\"},\"wgMFDisplayWikibaseDescriptions\":{\"search\":true,\"watchlist\":true,\"tagline\":true,\"nearby\":true},\"wgWMESchemaEditAttemptStepOversample\":false,\"wgWMEPageLength\":600000,\"wgULSCurrentAutonym\":\"العربية\",\"wgCentralAuthMobileDomain\":false,\"wgEditSubmitButtonLabelPublish\":true,\"wgULSPosition\":\"interlanguage\",\"wgULSisCompactLinksEnabled\":true,\"wgULSisLanguageSelectorEmpty\":false,\"wgWikibaseItemId\":\"Q223566\",\n",
      "\"wgCheckUserClientHintsHeadersJsApi\":[\"architecture\",\"bitness\",\"brands\",\"fullVersionList\",\"mobile\",\"model\",\"platform\",\"platformVersion\"],\"GEHomepageSuggestedEditsEnableTopics\":true,\"wgGETopicsMatchModeEnabled\":true,\"wgGEStructuredTaskRejectionReasonTextInputEnabled\":false,\"wgGELevelingUpEnabledForUser\":false,\"wgSiteNoticeId\":\"2.58\"};RLSTATE={\"skins.vector.user.styles\":\"ready\",\"ext.gadget.palestineTheme\":\"ready\",\"ext.gadget.Font-Amiri\":\"ready\",\"ext.gadget.HideExLinkIcon\":\"ready\",\"ext.gadget.Urgent-fixes\":\"ready\",\"ext.gadget.WMP-icons\":\"ready\",\"ext.globalCssJs.user.styles\":\"ready\",\"site.styles\":\"ready\",\"user.styles\":\"ready\",\"skins.vector.user\":\"ready\",\"ext.globalCssJs.user\":\"ready\",\"user\":\"ready\",\"user.options\":\"loading\",\"ext.flaggedRevs.icons\":\"ready\",\"oojs-ui-core.styles\":\"ready\",\"oojs-ui.styles.indicators\":\"ready\",\"mediawiki.widgets.styles\":\"ready\",\"oojs-ui-core.icons\":\"ready\",\"ext.cite.styles\":\"ready\",\"mediawiki.page.gallery.styles\":\"ready\",\"codex-search-styles\":\"ready\",\n",
      "\"skins.vector.styles\":\"ready\",\"skins.vector.icons\":\"ready\",\"skins.vector.zebra.styles\":\"ready\",\"jquery.tablesorter.styles\":\"ready\",\"jquery.makeCollapsible.styles\":\"ready\",\"ext.flaggedRevs.basic\":\"ready\",\"ext.visualEditor.desktopArticleTarget.noscript\":\"ready\",\"ext.uls.interlanguage\":\"ready\",\"wikibase.client.init\":\"ready\",\"ext.wikimediaBadges\":\"ready\",\"ext.dismissableSiteNotice.styles\":\"ready\"};RLPAGEMODULES=[\"ext.cite.ux-enhancements\",\"mediawiki.page.media\",\"ext.scribunto.logs\",\"mediawiki.toggleAllCollapsibles\",\"site\",\"mediawiki.page.ready\",\"jquery.tablesorter\",\"jquery.makeCollapsible\",\"mediawiki.toc\",\"skins.vector.js\",\"ext.centralNotice.geoIP\",\"ext.centralNotice.startUp\",\"ext.flaggedRevs.advanced\",\"ext.gadget.events-loader\",\"ext.gadget.searchlang\",\"ext.gadget.NoRefCopy\",\"ext.gadget.exlinks\",\"ext.gadget.content-support-loader\",\"ext.gadget.ReferenceTooltips\",\"ext.gadget.charinsert\",\"ext.gadget.TemplateParamWizard\",\"ext.gadget.decodesummary\",\"ext.urlShortener.toolbar\",\n",
      "\"ext.centralauth.centralautologin\",\"mmv.head\",\"mmv.bootstrap.autostart\",\"ext.popups\",\"ext.visualEditor.desktopArticleTarget.init\",\"ext.visualEditor.targetLoader\",\"ext.echo.centralauth\",\"ext.eventLogging\",\"ext.wikimediaEvents\",\"ext.navigationTiming\",\"ext.uls.compactlinks\",\"ext.uls.interface\",\"ext.cx.eventlogging.campaigns\",\"ext.cx.uls.quick.actions\",\"wikibase.client.vector-2022\",\"ext.checkUser.clientHints\",\"ext.growthExperiments.SuggestedEditSession\",\"ext.dismissableSiteNotice\"];\n",
      "  </script>\n",
      "  <script>\n",
      "   (RLQ=window.RLQ||[]).push(function(){mw.loader.impl(function(){return[\"user.options@12s5i\",function($,jQuery,require,module){mw.user.tokens.set({\"patrolToken\":\"+\\\\\",\"watchToken\":\"+\\\\\",\"csrfToken\":\"+\\\\\"});\n",
      "}];});});\n",
      "  </script>\n",
      "  <link href=\"/w/load.php?lang=ar&amp;modules=codex-search-styles%7Cext.cite.styles%7Cext.dismissableSiteNotice.styles%7Cext.flaggedRevs.basic%2Cicons%7Cext.uls.interlanguage%7Cext.visualEditor.desktopArticleTarget.noscript%7Cext.wikimediaBadges%7Cjquery.makeCollapsible.styles%7Cjquery.tablesorter.styles%7Cmediawiki.page.gallery.styles%7Cmediawiki.widgets.styles%7Coojs-ui-core.icons%2Cstyles%7Coojs-ui.styles.indicators%7Cskins.vector.icons%2Cstyles%7Cskins.vector.zebra.styles%7Cwikibase.client.init&amp;only=styles&amp;skin=vector-2022\" rel=\"stylesheet\"/>\n",
      "  <script async=\"\" src=\"/w/load.php?lang=ar&amp;modules=startup&amp;only=scripts&amp;raw=1&amp;skin=vector-2022\">\n",
      "  </script>\n",
      "  <meta content=\"\" name=\"ResourceLoaderDynamicStyles\"/>\n",
      "  <link href=\"/w/load.php?lang=ar&amp;modules=ext.gadget.Font-Amiri%2CHideExLinkIcon%2CUrgent-fixes%2CWMP-icons%2CpalestineTheme&amp;only=styles&amp;skin=vector-2022\" rel=\"stylesheet\"/>\n",
      "  <link href=\"/w/load.php?lang=ar&amp;modules=site.styles&amp;only=styles&amp;skin=vector-2022\" rel=\"stylesheet\"/>\n",
      "  <meta content=\"MediaWiki 1.42.0-wmf.12\" name=\"generator\"/>\n",
      "  <meta content=\"origin\" name=\"referrer\"/>\n",
      "  <meta content=\"origin-when-cross-origin\" name=\"referrer\"/>\n",
      "  <meta content=\"max-image-preview:standard\" name=\"robots\"/>\n",
      "  <meta content=\"telephone=no\" name=\"format-detection\"/>\n",
      "  <meta content=\"https://upload.wikimedia.org/wikipedia/ar/0/08/%D8%B4%D8%B9%D8%A7%D8%B1_%D8%A7%D9%84%D9%86%D8%A7%D8%AF%D9%8A_%D8%A7%D9%84%D8%A3%D9%87%D9%84%D9%8A_2023.png\" property=\"og:image\"/>\n",
      "  <meta content=\"1200\" property=\"og:image:width\"/>\n",
      "  <meta content=\"2000\" property=\"og:image:height\"/>\n",
      "  <meta content=\"https://upload.wikimedia.org/wikipedia/ar/0/08/%D8%B4%D8%B9%D8%A7%D8%B1_%D8%A7%D9%84%D9%86%D8%A7%D8%AF%D9%8A_%D8%A7%D9%84%D8%A3%D9%87%D9%84%D9%8A_2023.png\" property=\"og:image\"/>\n",
      "  <meta content=\"800\" property=\"og:image:width\"/>\n",
      "  <meta content=\"1333\" property=\"og:image:height\"/>\n",
      "  <meta content=\"640\" property=\"og:image:width\"/>\n",
      "  <meta content=\"1067\" property=\"og:image:height\"/>\n",
      "  <meta content=\"width=1000\" name=\"viewport\"/>\n",
      "  <meta content=\"النادي الأهلي (مصر) - ويكيبيديا\" property=\"og:title\"/>\n",
      "  <meta content=\"website\" property=\"og:type\"/>\n",
      "  <link href=\"//upload.wikimedia.org\" rel=\"preconnect\"/>\n",
      "  <link href=\"//ar.m.wikipedia.org/wiki/%D8%A7%D9%84%D9%86%D8%A7%D8%AF%D9%8A_%D8%A7%D9%84%D8%A3%D9%87%D9%84%D9%8A_(%D9%85%D8%B5%D8%B1)\" media=\"only screen and (max-width: 720px)\" rel=\"alternate\"/>\n",
      "  <link href=\"/static/apple-touch/wikipedia.png\" rel=\"apple-touch-icon\"/>\n",
      "  <link href=\"/static/favicon/wikipedia.ico\" rel=\"icon\"/>\n",
      "  <link href=\"/w/opensearch_desc.php\" rel=\"search\" title=\"ويكيبيديا (ar)\" type=\"application/opensearchdescription+xml\"/>\n",
      "  <link href=\"//ar.wikipedia.org/w/api.php?action=rsd\" rel=\"EditURI\" type=\"application/rsd+xml\"/>\n",
      "  <link href=\"https://ar.wikipedia.org/wiki/%D8%A7%D9%84%D9%86%D8%A7%D8%AF%D9%8A_%D8%A7%D9%84%D8%A3%D9%87%D9%84%D9%8A_(%D9%85%D8%B5%D8%B1)\" rel=\"canonical\"/>\n",
      "  <link href=\"https://creativecommons.org/licenses/by-sa/4.0/deed.ar\" rel=\"license\"/>\n",
      "  <link href=\"/w/index.php?title=%D8%AE%D8%A7%D8%B5:%D8%A3%D8%AD%D8%AF%D8%AB_%D8%A7%D9%84%D8%AA%D8%BA%D9%8A%D9%8A%D8%B1%D8%A7%D8%AA&amp;feed=atom\" rel=\"alternate\" title=\"تلقيمة أتوم ويكيبيديا\" type=\"application/atom+xml\"/>\n",
      "  <link href=\"//meta.wikimedia.org\" rel=\"dns-prefetch\">\n",
      "   <link href=\"//login.wikimedia.org\" rel=\"dns-prefetch\"/>\n",
      "  </link>\n",
      " </head>\n",
      " <body class=\"skin-vector skin-vector-search-vue mediawiki rtl sitedir-rtl mw-hide-empty-elt ns-0 ns-subject page-النادي_الأهلي_مصر rootpage-النادي_الأهلي_مصر skin-vector-2022 action-view\">\n",
      "  <a class=\"mw-jump-link\" href=\"#bodyContent\">\n",
      "   انتقل إلى المحتوى\n",
      "  </a>\n",
      "  <div class=\"vector-header-container\">\n",
      "   <header class=\"vector-header mw-header\">\n",
      "    <div class=\"vector-header-start\">\n",
      "     <nav aria-label=\"الموقع\" class=\"vector-main-menu-landmark\" role=\"navigation\">\n",
      "      <div class=\"vector-dropdown vector-main-menu-dropdown vector-button-flush-left vector-button-flush-right\" id=\"vector-main-menu-dropdown\">\n",
      "       <input aria-haspopup=\"true\" aria-label=\"القائمة الرئيسية\" class=\"vector-dropdown-checkbox\" data-event-name=\"ui.dropdown-vector-main-menu-dropdown\" id=\"vector-main-menu-dropdown-checkbox\" role=\"button\" type=\"checkbox\"/>\n",
      "       <label aria-hidden=\"true\" class=\"vector-dropdown-label cdx-button cdx-button--fake-button cdx-button--fake-button--enabled cdx-button--weight-quiet cdx-button--icon-only\" for=\"vector-main-menu-dropdown-checkbox\" id=\"vector-main-menu-dropdown-label\">\n",
      "        <span class=\"vector-icon mw-ui-icon-menu mw-ui-icon-wikimedia-menu\">\n",
      "        </span>\n",
      "        <span class=\"vector-dropdown-label-text\">\n",
      "         القائمة الرئيسية\n",
      "        </span>\n",
      "       </label>\n",
      "       <div class=\"vector-dropdown-content\">\n",
      "        <div class=\"vector-unpinned-container\" id=\"vector-main-menu-unpinned-container\">\n",
      "         <div class=\"vector-main-menu vector-pinnable-element\" id=\"vector-main-menu\">\n",
      "          <div class=\"vector-pinnable-header vector-main-menu-pinnable-header vector-pinnable-header-unpinned\" data-feature-name=\"main-menu-pinned\" data-pinnable-element-id=\"vector-main-menu\" data-pinned-container-id=\"vector-main-menu-pinned-container\" data-unpinned-container-id=\"vector-main-menu-unpinned-container\">\n",
      "           <div class=\"vector-pinnable-header-label\">\n",
      "            القائمة الرئيسية\n",
      "           </div>\n",
      "           <button class=\"vector-pinnable-header-toggle-button vector-pinnable-header-pin-button\" data-event-name=\"pinnable-header.vector-main-menu.pin\">\n",
      "            انقل للشريط الجانبي\n",
      "           </button>\n",
      "           <button class=\"vector-pinnable-header-toggle-button vector-pinnable-header-unpin-button\" data-event-name=\"pinnable-header.vector-main-menu.unpin\">\n",
      "            أخف\n",
      "           </button>\n",
      "          </div>\n",
      "          <div class=\"vector-menu mw-portlet mw-portlet-encyclopedia\" id=\"p-encyclopedia\">\n",
      "           <div class=\"vector-menu-heading\">\n",
      "            الموسوعة\n",
      "           </div>\n",
      "           <div class=\"vector-menu-content\">\n",
      "            <ul class=\"vector-menu-content-list\">\n",
      "             <li class=\"mw-list-item\" id=\"n-mainpage-description\">\n",
      "              <a accesskey=\"z\" href=\"/wiki/%D8%A7%D9%84%D8%B5%D9%81%D8%AD%D8%A9_%D8%A7%D9%84%D8%B1%D8%A6%D9%8A%D8%B3%D9%8A%D8%A9\" title=\"زر الصفحة الرئيسية [z]\">\n",
      "               <span>\n",
      "                الصفحة الرئيسية\n",
      "               </span>\n",
      "              </a>\n",
      "             </li>\n",
      "             <li class=\"mw-list-item\" id=\"n-currentevents\">\n",
      "              <a href=\"/wiki/%D8%A8%D9%88%D8%A7%D8%A8%D8%A9:%D8%A3%D8%AD%D8%AF%D8%A7%D8%AB_%D8%AC%D8%A7%D8%B1%D9%8A%D8%A9\" title=\"مطالعة سريعة لأهم الأحداث الجارية\">\n",
      "               <span>\n",
      "                الأحداث الجارية\n",
      "               </span>\n",
      "              </a>\n",
      "             </li>\n",
      "             <li class=\"mw-list-item\" id=\"n-recentchanges\">\n",
      "              <a accesskey=\"r\" href=\"/wiki/%D8%AE%D8%A7%D8%B5:%D8%A3%D8%AD%D8%AF%D8%AB_%D8%A7%D9%84%D8%AA%D8%BA%D9%8A%D9%8A%D8%B1%D8%A7%D8%AA\" title=\"قائمة أحدث التغييرات في الويكي. [r]\">\n",
      "               <span>\n",
      "                أحدث التغييرات\n",
      "               </span>\n",
      "              </a>\n",
      "             </li>\n",
      "             <li class=\"mw-list-item\" id=\"n-wrecentchanges\">\n",
      "              <a href=\"/wiki/%D8%AE%D8%A7%D8%B5:%D8%A3%D8%AD%D8%AF%D8%AB_%D8%A7%D9%84%D8%AA%D8%BA%D9%8A%D9%8A%D8%B1%D8%A7%D8%AA_%D8%A7%D9%84%D9%85%D9%88%D8%B5%D9%88%D9%84%D8%A9/%D9%88%D9%8A%D9%83%D9%8A%D8%A8%D9%8A%D8%AF%D9%8A%D8%A7:%D8%B5%D9%81%D8%AD%D8%A7%D8%AA_%D9%85%D9%87%D9%85%D8%A9\">\n",
      "               <span>\n",
      "                أحدث التغييرات الأساسية\n",
      "               </span>\n",
      "              </a>\n",
      "             </li>\n",
      "            </ul>\n",
      "           </div>\n",
      "          </div>\n",
      "          <div class=\"vector-menu mw-portlet mw-portlet-navigation\" id=\"p-navigation\">\n",
      "           <div class=\"vector-menu-heading\">\n",
      " \n"
     ]
    }
   ],
   "source": [
    "print(soup.prettify()[:15000])"
   ]
  },
  {
   "cell_type": "markdown",
   "metadata": {},
   "source": [
    "## Extract information from BeautifulSoup object"
   ]
  },
  {
   "cell_type": "markdown",
   "metadata": {},
   "source": [
    "### Find title of article"
   ]
  },
  {
   "cell_type": "code",
   "execution_count": 4,
   "metadata": {},
   "outputs": [
    {
     "name": "stdout",
     "output_type": "stream",
     "text": [
      "article title: النادي الأهلي (مصر).\n"
     ]
    }
   ],
   "source": [
    "title = soup.find('h1', {'id' : 'firstHeading'})\n",
    "print('article title: {}.'.format(title.get_text()))"
   ]
  },
  {
   "cell_type": "markdown",
   "metadata": {},
   "source": [
    "### Filter page body and get text"
   ]
  },
  {
   "cell_type": "code",
   "execution_count": 5,
   "metadata": {},
   "outputs": [],
   "source": [
    "# We will get the body as I am only intrested in the information inside the body\n",
    "body = soup.find(class_ = 'mw-content-rtl mw-parser-output')"
   ]
  },
  {
   "cell_type": "code",
   "execution_count": 6,
   "metadata": {},
   "outputs": [],
   "source": [
    "# Filter the body to only keep paragraphs in the main text of the article\n",
    "infobox = body.find(class_ = 'infobox')\n",
    "infobox_v2 = body.find(class_ = 'infobox infobox_v2')\n",
    "navigation = body.find(class_ = 'navbox')\n",
    "hatnote = body.find(class_ = 'hatnote navigation-not-searchable')\n",
    "tables = body.find(class_ = 'wikitable')\n",
    "infobox.decompose() # Remove side info box\n",
    "infobox_v2.decompose() # Remove side info box\n",
    "navigation.decompose() # Remove navigation elements\n",
    "hatnote.decompose() # Remove hat note\n",
    "tables.decompose() # Remove tables\n"
   ]
  },
  {
   "cell_type": "code",
   "execution_count": 7,
   "metadata": {},
   "outputs": [],
   "source": [
    "# Get all text in the article body \n",
    "text_body = body.get_text()"
   ]
  },
  {
   "cell_type": "code",
   "execution_count": 8,
   "metadata": {},
   "outputs": [],
   "source": [
    "# Create a txt file containing the article's body.\n",
    "with open('test.txt', 'w') as file:\n",
    "    file.writelines(text_body.strip())"
   ]
  },
  {
   "cell_type": "markdown",
   "metadata": {},
   "source": [
    "### Get links from page to scrape them"
   ]
  },
  {
   "cell_type": "code",
   "execution_count": 9,
   "metadata": {},
   "outputs": [],
   "source": [
    "a_tags = body.find_all('a')"
   ]
  },
  {
   "cell_type": "markdown",
   "metadata": {},
   "source": [
    "#### Filter links\n",
    "Now we go throug the href links to filter out images and construct the full URLs."
   ]
  },
  {
   "cell_type": "code",
   "execution_count": 10,
   "metadata": {},
   "outputs": [
    {
     "data": {
      "text/plain": [
       "<a href=\"/wiki/%D8%A7%D9%84%D9%86%D8%A7%D8%AF%D9%8A_%D8%A7%D9%84%D8%A3%D9%87%D9%84%D9%8A_%D8%A7%D9%84%D9%85%D8%B5%D8%B1%D9%8A_%D9%84%D9%83%D8%B1%D8%A9_%D8%A7%D9%84%D9%85%D8%A7%D8%A1\" title=\"النادي الأهلي المصري لكرة الماء\"><img class=\"mw-file-element\" data-file-height=\"300\" data-file-width=\"300\" decoding=\"async\" height=\"50\" src=\"//upload.wikimedia.org/wikipedia/commons/thumb/0/0e/Water_polo_pictogram.svg/50px-Water_polo_pictogram.svg.png\" srcset=\"//upload.wikimedia.org/wikipedia/commons/thumb/0/0e/Water_polo_pictogram.svg/75px-Water_polo_pictogram.svg.png 1.5x, //upload.wikimedia.org/wikipedia/commons/thumb/0/0e/Water_polo_pictogram.svg/100px-Water_polo_pictogram.svg.png 2x\" width=\"50\"/></a>"
      ]
     },
     "execution_count": 10,
     "metadata": {},
     "output_type": "execute_result"
    }
   ],
   "source": [
    "a_tags[10]"
   ]
  },
  {
   "cell_type": "code",
   "execution_count": 11,
   "metadata": {},
   "outputs": [
    {
     "name": "stdout",
     "output_type": "stream",
     "text": [
      "1759\n"
     ]
    }
   ],
   "source": [
    "articles_path = list() # articles path store the path to other wikepedia articles that the current one contains\n",
    "\n",
    "for path in a_tags:\n",
    "    try:\n",
    "        if path.get('title') != None and 'توضيح' in path.get('title'):\n",
    "            continue\n",
    "        if path.get('href') != None and path.get('class') == None and 'cite_note' not in path.get('href'):\n",
    "            article_name = path.get('title')\n",
    "            full_url = 'https://ar.wikipedia.org' + path.get('href')\n",
    "            value = (article_name , full_url)\n",
    "            if value not in articles_path: # Check if this article exists in the list of links\n",
    "                articles_path.append(value)\n",
    "    except KeyError:\n",
    "        continue\n",
    "\n",
    "print(len(articles_path))"
   ]
  },
  {
   "cell_type": "code",
   "execution_count": 12,
   "metadata": {},
   "outputs": [
    {
     "data": {
      "text/html": [
       "<div>\n",
       "<style scoped>\n",
       "    .dataframe tbody tr th:only-of-type {\n",
       "        vertical-align: middle;\n",
       "    }\n",
       "\n",
       "    .dataframe tbody tr th {\n",
       "        vertical-align: top;\n",
       "    }\n",
       "\n",
       "    .dataframe thead th {\n",
       "        text-align: right;\n",
       "    }\n",
       "</style>\n",
       "<table border=\"1\" class=\"dataframe\">\n",
       "  <thead>\n",
       "    <tr style=\"text-align: right;\">\n",
       "      <th></th>\n",
       "      <th>name</th>\n",
       "      <th>URL</th>\n",
       "    </tr>\n",
       "  </thead>\n",
       "  <tbody>\n",
       "    <tr>\n",
       "      <th>0</th>\n",
       "      <td>النادي الأهلي (مصر)</td>\n",
       "      <td>https://ar.wikipedia.org/wiki/%D8%A7%D9%84%D9%...</td>\n",
       "    </tr>\n",
       "    <tr>\n",
       "      <th>1</th>\n",
       "      <td>النادي الأهلي للكرة الطائرة (مصر)</td>\n",
       "      <td>https://ar.wikipedia.org/wiki/%D8%A7%D9%84%D9%...</td>\n",
       "    </tr>\n",
       "    <tr>\n",
       "      <th>2</th>\n",
       "      <td>النادي الأهلي للكرة الطائرة للسيدات</td>\n",
       "      <td>https://ar.wikipedia.org/wiki/%D8%A7%D9%84%D9%...</td>\n",
       "    </tr>\n",
       "    <tr>\n",
       "      <th>3</th>\n",
       "      <td>النادي الأهلي المصري لكرة السلة</td>\n",
       "      <td>https://ar.wikipedia.org/wiki/%D8%A7%D9%84%D9%...</td>\n",
       "    </tr>\n",
       "    <tr>\n",
       "      <th>4</th>\n",
       "      <td>النادي الأهلي لكرة السلة للسيدات</td>\n",
       "      <td>https://ar.wikipedia.org/wiki/%D8%A7%D9%84%D9%...</td>\n",
       "    </tr>\n",
       "  </tbody>\n",
       "</table>\n",
       "</div>"
      ],
      "text/plain": [
       "                                  name  \\\n",
       "0                  النادي الأهلي (مصر)   \n",
       "1    النادي الأهلي للكرة الطائرة (مصر)   \n",
       "2  النادي الأهلي للكرة الطائرة للسيدات   \n",
       "3      النادي الأهلي المصري لكرة السلة   \n",
       "4     النادي الأهلي لكرة السلة للسيدات   \n",
       "\n",
       "                                                 URL  \n",
       "0  https://ar.wikipedia.org/wiki/%D8%A7%D9%84%D9%...  \n",
       "1  https://ar.wikipedia.org/wiki/%D8%A7%D9%84%D9%...  \n",
       "2  https://ar.wikipedia.org/wiki/%D8%A7%D9%84%D9%...  \n",
       "3  https://ar.wikipedia.org/wiki/%D8%A7%D9%84%D9%...  \n",
       "4  https://ar.wikipedia.org/wiki/%D8%A7%D9%84%D9%...  "
      ]
     },
     "execution_count": 12,
     "metadata": {},
     "output_type": "execute_result"
    }
   ],
   "source": [
    "articles_linkes_df = pd.DataFrame.from_records(articles_path, columns= ['name', 'URL'])\n",
    "articles_linkes_df.head()\n"
   ]
  }
 ],
 "metadata": {
  "kernelspec": {
   "display_name": "ml-side",
   "language": "python",
   "name": "python3"
  },
  "language_info": {
   "codemirror_mode": {
    "name": "ipython",
    "version": 3
   },
   "file_extension": ".py",
   "mimetype": "text/x-python",
   "name": "python",
   "nbconvert_exporter": "python",
   "pygments_lexer": "ipython3",
   "version": "3.10.13"
  }
 },
 "nbformat": 4,
 "nbformat_minor": 2
}
